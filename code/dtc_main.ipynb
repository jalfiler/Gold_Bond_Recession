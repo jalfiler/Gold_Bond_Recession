{
 "cells": [
  {
   "cell_type": "markdown",
   "id": "a361a454-203e-4c23-a0fd-89cc4aba6e1e",
   "metadata": {},
   "source": [
    "# P2: Data Translation Challenge"
   ]
  },
  {
   "cell_type": "markdown",
   "id": "fe2d693d-654e-494f-a8c7-897d56c2200c",
   "metadata": {},
   "source": [
    "#### Business Problem—The Gold Plan:\n",
    "\n",
    "Our CEO, Georgia Alaska, read in the newspaper that an inverted yield curve is a signal for recession. She believes the best thing to hold during a recession is gold! She wants to protect our shareholders in the case of a recession--the company, like most, is sensitive to poor sales and thus poor performance during a recession. It is within the latitude of the management to enter into whatever sort of risk mitigation they deem fit, including making financial investments unrelated to the core business. Georgia wants to know if we can come up with some financial trading strategy that might both predict a recession and hedge against it by making trading profits to offset our anticipated lower sales. But she's not one to merely go off of hearsay or even her own gut feelings without some due diligence and thoughtful analysis. Let's do some analysis for her to see if holding gold on an inverted yield curve signal might be a good trading strategy."
   ]
  },
  {
   "cell_type": "markdown",
   "id": "f540b21c-9f4f-4589-96fa-03e941c6bbed",
   "metadata": {},
   "source": [
    "**Classes:**\n",
    "\n",
    "`TimeSeries` - class to hold a date/value series of data.\n",
    "\n",
    "`Difference` - a time series that is the difference between two other time series.\n",
    "\n",
    "`Fred` - a time series that is based on a csv file downloaded from https://fred.stlouisfed.org/searchresults?st=treasury.\n",
    "\n",
    "`dgs3mo` - the 3-month treasury series from FRED.\n",
    "\n",
    "`dgs10` - the 10-year treasury series from FRED.\n",
    "\n",
    "`Bundesbank` - reads in gold price data.\n",
    "\n",
    "`gold_spot` - creates and assigns gold values to a dicitionary.\n",
    "\n",
    "`lag` - creates a dictionary of profit on gold according a given holding period.\n",
    "\n",
    "`returns` - calculates the ratio of profit for sold gold given a time period\n",
    "\n",
    "**Functions:**\n",
    "\n",
    "`print_correlation` - prints comparable correlations of price data.\n",
    "\n",
    "`recession_visual` - plots a graphic visual showing the inverted yield curve."
   ]
  },
  {
   "cell_type": "code",
   "execution_count": 54,
   "id": "7a9b33af-bb20-40cb-b21d-af77ca78190c",
   "metadata": {
    "tags": []
   },
   "outputs": [],
   "source": [
    "import os\n",
    "import csv\n",
    "from datetime import datetime\n",
    "from scipy.stats import pearsonr\n",
    "\n",
    "\n",
    "DATA = '/Users/jomaicaalfiler/Desktop/MSBA/Python - 5062/Week 7/DTC/'"
   ]
  },
  {
   "cell_type": "markdown",
   "id": "5b19fdcc-79a2-483c-9780-b52c7f0c1240",
   "metadata": {},
   "source": [
    "### Time Series"
   ]
  },
  {
   "cell_type": "code",
   "execution_count": null,
   "id": "6cba25a2-b8f4-490d-9511-cf27644dd1ed",
   "metadata": {},
   "outputs": [],
   "source": [
    "class TimeSeries(object):\n",
    "    \"\"\"Holds a date/value series of data\"\"\"\n",
    "    def __init__(self, name, title=None, unit=None, data=None):\n",
    "        self.name = name\n",
    "        self.title = title if title is not None else name\n",
    "        self.unit = unit\n",
    "        self.data = data if data is not None else {}\n",
    "        self.first_date = None if len(self.data) == 0 else min(self.data)\n",
    "        self.last_date = None if len(self.data) == 0 else max(self.data)\n",
    "\n",
    "    def get_dates(self, candidates=None, start=None, end=None):\n",
    "        \"\"\"Get the dates where this series has values\n",
    "        ts.get_dates() - gets all dates where ts has values\n",
    "        ts.get_dates(start=d1,end=d2) - get all valid dates, d, \n",
    "                                        where d1<=d<=d2\n",
    "        ts.get_dates(candidates=dates) - get all valid dates, d, \n",
    "                                         for d in dates\n",
    "        :param candidates: if set, start and end are ignored, and \n",
    "                           returns the subset of dates within \n",
    "                           candidates that for which this series has data\n",
    "        :param start:      minimum starting date of returned dates, \n",
    "                           defaults to beginning of this series\n",
    "        :param end:        max ending date of returned dates, \n",
    "                           defaults to end of this series\n",
    "        :return:           a list of dates in order for which\n",
    "                           this series has values and that satisfy\n",
    "                           the parameters' conditions\n",
    "        \"\"\"\n",
    "        if candidates is not None:\n",
    "            return [date for date in candidates if date in self.data]  \n",
    "        if start is None:\n",
    "            start = self.first_date\n",
    "        if end is None:\n",
    "            end = self.last_date\n",
    "        return [date for date in sorted(self.data) if start <= date <= end]  \n",
    "    \n",
    "    def get_values(self, dates):\n",
    "        \"\"\"Get the values for the specified dates.\n",
    "        :param dates:      list of dates to get values for\n",
    "        :return:           the values for the given dates in the same order\n",
    "        :raises: KeyError  if any requested date has no value\n",
    "        \"\"\"\n",
    "        ret = []\n",
    "        for d in dates:\n",
    "            try:\n",
    "                ret.append(self.data[d])\n",
    "            except KeyError:\n",
    "                pass\n",
    "        return ret\n",
    "       \n",
    "    def __sub__(self, other):\n",
    "        \"\"\"create a difference time series\"\"\"\n",
    "        return Difference(self, other)\n",
    "    \n",
    "    def correlation(self, other):\n",
    "        \"\"\"Calculate the Pearson correlation coefficient between this series\n",
    "        and another on all days when they both have values.\n",
    "        Uses scipy.stats.pearsonr to calculate it.\n",
    "        \"\"\"\n",
    "        corr_list1 = []\n",
    "        corr_list2 = []\n",
    "        for k in self.data:\n",
    "            if k in other.data:\n",
    "                corr_list1.append(self.data[k])\n",
    "                corr_list2.append(other.data[k])  \n",
    "        return pearsonr(corr_list1, corr_list2)"
   ]
  },
  {
   "cell_type": "markdown",
   "id": "0cbf7aeb-2f7a-4612-8f8b-613cbb107e8c",
   "metadata": {},
   "source": [
    "### FRED "
   ]
  },
  {
   "cell_type": "code",
   "execution_count": 55,
   "id": "a4e78a16-5e9b-42ce-b9a8-5b9fdc3eed52",
   "metadata": {
    "tags": []
   },
   "outputs": [],
   "source": [
    "class Fred(TimeSeries):\n",
    "    \"\"\"A time series that is based on a csv file downloaded from\n",
    "    fred.stlouis.org\n",
    "    \"\"\"\n",
    "\n",
    "    def __init__(self, name, title=None, unit=None, data_column=None):\n",
    "        \"\"\"Opens and reads the csv file in DATA/name.csv\"\"\"\n",
    "        super().__init__(name.lower(), title, unit)\n",
    "        filename = os.path.join(DATA, name + '.csv')\n",
    "        if data_column is None:\n",
    "            data_column = name\n",
    "        with open(filename) as csv_file:\n",
    "            reader = csv.DictReader(csv_file)\n",
    "            for row in reader:\n",
    "                try:\n",
    "                    value = float(row[data_column])\n",
    "                except ValueError:\n",
    "                    continue\n",
    "                date = datetime.strptime(row['DATE'], \"%Y-%m-%d\")\n",
    "                self.data[date] = value\n",
    "        self.first_date = min(self.data)\n",
    "        self.last_date = max(self.data)"
   ]
  },
  {
   "cell_type": "markdown",
   "id": "d6ee3e99-2066-408b-ab06-1746640cb213",
   "metadata": {},
   "source": [
    "### DGS3MO"
   ]
  },
  {
   "cell_type": "code",
   "execution_count": 56,
   "id": "98fe3286-e0ab-4e9a-8184-b562f6be1941",
   "metadata": {
    "tags": []
   },
   "outputs": [],
   "source": [
    "class dgs3mo(Fred):\n",
    "    \"\"\"The 3-month treasury series from FRED\"\"\"\n",
    "    \n",
    "    def __init__(self):\n",
    "        super().__init__('DGS3MO', '3-Month Treasury', 'percent')"
   ]
  },
  {
   "cell_type": "markdown",
   "id": "c9e31717-74dd-4a54-99a4-28a4827e6487",
   "metadata": {
    "tags": []
   },
   "source": [
    "### DGS10"
   ]
  },
  {
   "cell_type": "code",
   "execution_count": 58,
   "id": "ebfe9e98-1b12-4c51-86bc-e97847cb9f9b",
   "metadata": {
    "tags": []
   },
   "outputs": [],
   "source": [
    "class dgs10(Fred):\n",
    "    \"\"\"The 10-year treasury series from FRED\"\"\"\n",
    "    \n",
    "    def __init__(self):\n",
    "        super().__init__('DGS10', '10-Year Treasury', 'percent')"
   ]
  },
  {
   "cell_type": "markdown",
   "id": "68c712d4-d7ce-453f-8f5b-32d1992c780f",
   "metadata": {},
   "source": [
    "### Difference"
   ]
  },
  {
   "cell_type": "code",
   "execution_count": null,
   "id": "e4836164-5854-4271-8b85-045ee454f7af",
   "metadata": {},
   "outputs": [],
   "source": [
    "class Difference(TimeSeries):\n",
    "    \"\"\"a time series that is the difference between two other time series\"\"\"\n",
    "\n",
    "    def __init__(self, a, b):\n",
    "        super().__init__(a.name + '-' + b.name, unit=a.unit)\n",
    "        self.data = {d: (a.data[d] - b.data[d]) for d in a.data if d in b.data}\n",
    "        self.first_date = min(self.data)\n",
    "        self.last_date = max(self.data)"
   ]
  },
  {
   "cell_type": "markdown",
   "id": "f91d9326-41ca-453d-9502-6f38a1a408ea",
   "metadata": {},
   "source": [
    "### Bundesbank"
   ]
  },
  {
   "cell_type": "code",
   "execution_count": 59,
   "id": "e6457f31-3994-4744-9f99-c25a119ba2a0",
   "metadata": {
    "tags": []
   },
   "outputs": [],
   "source": [
    "class Bundesbank(TimeSeries):\n",
    "    \"\"\"A time series that is based on a csv file downloaded from\n",
    "    Deutsche Bundesbank, www.bundesbank.de\n",
    "    \"\"\"\n",
    "\n",
    "    def __init__(self, name=None, filename=None):\n",
    "        self.data = {}\n",
    "        self.title = None\n",
    "        self.unit = None\n",
    "        filename = DATA + filename + '.csv'\n",
    "        with open(filename) as csv_file:\n",
    "            reader = csv.reader(csv_file)\n",
    "            for row_number, row in enumerate(reader):\n",
    "                if row_number == 1:\n",
    "                    title = row[1]\n",
    "                elif row_number == 2:\n",
    "                    unit = row[1]\n",
    "                else:\n",
    "                    try:\n",
    "                        datetime.strptime(row[0], '%Y-%m-%d')\n",
    "                        break\n",
    "                    except:\n",
    "                        pass\n",
    "        super().__init__(name, title, unit)\n",
    "        with open(filename) as csv_file:  \n",
    "            reader = csv.reader(csv_file)\n",
    "            for skip in range(row_number):  \n",
    "                next(reader)\n",
    "            for row in reader:\n",
    "                try:\n",
    "                    self.data[datetime.strptime(row[0], '%Y-%m-%d')] = float(row[1])\n",
    "                except ValueError:\n",
    "                    pass\n",
    "            self.first_date = min(self.data)\n",
    "            self.last_date = max(self.data)"
   ]
  },
  {
   "cell_type": "markdown",
   "id": "e1b0fe3b-3ae1-4cf7-a8d0-b801f2fcbd7f",
   "metadata": {},
   "source": [
    "### Gold Spot"
   ]
  },
  {
   "cell_type": "code",
   "execution_count": null,
   "id": "ba432a22-5e30-43e9-907b-17c47d9edd10",
   "metadata": {},
   "outputs": [],
   "source": [
    "class gold_spot(Bundesbank):\n",
    "    \"\"\"Spot gold prices from London morning fix\n",
    "    >>> gold = gold_spot()\n",
    "    >>> gold.first_date\n",
    "    datetime.datetime(1968, 4, 1, 0, 0)\n",
    "    >>> gold.title, gold.unit\n",
    "    ('Price of gold in London / morning fixing / 1 ounce of fine gold = USD ...', 'USD')\n",
    "    \"\"\"\n",
    "\n",
    "    def __init__(self):\n",
    "        \"\"\"Bundesbank's constructor wants time series name and filename in\n",
    "           the DATA directory (automatically appending '.csv' to it).\n",
    "           Bundesbank will automatically pull title and unit from within\n",
    "           the file.\n",
    "        \"\"\"\n",
    "        super().__init__(self.__class__.__name__, 'BBEX3.D.XAU.USD.EA.AC.C04')"
   ]
  },
  {
   "cell_type": "markdown",
   "id": "be5d4fe5-97ad-4794-b7a3-cfa420a9ab3c",
   "metadata": {},
   "source": [
    "### Lag"
   ]
  },
  {
   "cell_type": "code",
   "execution_count": 60,
   "id": "626d4ae9-25df-41b5-a9c7-8f79772f284f",
   "metadata": {
    "tags": []
   },
   "outputs": [],
   "source": [
    "class lag(TimeSeries):\n",
    "    \"\"\"Time series that is a right-shifted copy of another.\n",
    "    Shifting is done across a given number of data points, ignoring actual\n",
    "    time intervals (e.g., a lag of one on a weekday-only series goes from\n",
    "    Thursday to Friday and Friday to Monday, ignoring the weekend where\n",
    "    there are no points)\n",
    "    >>> lagger = lag(TimeSeries('a', data={datetime(2018,1,i):i for i in range(10,20,3)}), 2)\n",
    "    >>> lagger.get_dates()\n",
    "    [datetime.datetime(2018, 1, 16, 0, 0), datetime.datetime(2018, 1, 19, 0, 0)]\n",
    "    >>> lagger.get_values(lagger.get_dates())\n",
    "    [10, 13]\n",
    "    \"\"\"  \n",
    "\n",
    "    def __init__(self, underlier, total_hold):\n",
    "        super().__init__(underlier.name, data=underlier.data)\n",
    "        self.first_date = min(self.data)\n",
    "        self.last_date = max(self.data)\n",
    "        self.data = {}\n",
    "        current_dates = underlier.get_dates()\n",
    "        values_lag = underlier.get_values(current_dates)\n",
    "        dates_lag = current_dates[total_hold:]\n",
    "        for i in range(len(dates_lag)):\n",
    "            self.data[dates_lag[i]] = values_lag[i]"
   ]
  },
  {
   "cell_type": "markdown",
   "id": "c647d783-0df8-40de-aba3-652de0ae9096",
   "metadata": {},
   "source": [
    "### Return"
   ]
  },
  {
   "cell_type": "code",
   "execution_count": null,
   "id": "a42613c0-c1ec-49f0-aada-b5391e0af250",
   "metadata": {},
   "outputs": [],
   "source": [
    "class returns(TimeSeries):\n",
    "    \"\"\"Time series that is profit ratio of buying the asset at time t[0]\n",
    "    and selling it at time t[n]. Value is (t[n]-t[0])/t[0].\n",
    "    >>> inv = returns(TimeSeries('a', data={datetime(2018,1,i):i for i in range(10,20,3)}), 1)\n",
    "    >>> inv.get_dates()\n",
    "    [datetime.datetime(2018, 1, 13, 0, 0), datetime.datetime(2018, 1, 16, 0, 0), datetime.datetime(2018, 1, 19, 0, 0)]\n",
    "    >>> inv.get_values(inv.get_dates()) == [3/10, 3/13, 3/16]\n",
    "    True\n",
    "    \"\"\"  \n",
    "\n",
    "    def __init__(self, gold, total_hold):\n",
    "        super().__init__(gold.name, data=gold.data)\n",
    "        self.first_date = min(self.data)\n",
    "        self.last_date = max(self.data)\n",
    "        lagged = lag(gold, total_hold)\n",
    "        self.data = {i: ((self.data[i] - lagged.data[i]) / lagged.data[i]) for i in lagged.get_dates()}  "
   ]
  },
  {
   "cell_type": "markdown",
   "id": "8a959031-f09a-4347-be98-9482de7297e4",
   "metadata": {},
   "source": [
    "### Correllations"
   ]
  },
  {
   "cell_type": "code",
   "execution_count": 61,
   "id": "619301e0-ac8e-454e-bc63-12e40357514c",
   "metadata": {
    "tags": []
   },
   "outputs": [],
   "source": [
    "def print_correlations():\n",
    "    \"\"\"A function set up for the ease of running the correlations function in the TimeSeries file\n",
    "    with both the difference of the treasury assets paired with the gold prices, but also the\n",
    "    gold prices along with a lagged selling profit.\"\"\"\n",
    "    short = dgs3mo()\n",
    "    long = dgs10()\n",
    "    gold = gold_spot()\n",
    "    dates = short.get_dates()\n",
    "    dates = long.get_dates(dates)  \n",
    "    diff = long - short\n",
    "    gold_correlation, pval = gold.correlation(diff)\n",
    "    print('Correlation between dgs10-dgs3mo and gold_spot: {:.2%}'.format(gold_correlation))\n",
    "    buy_lag = 3  \n",
    "    hold_time = 20  \n",
    "    investment = returns(gold, hold_time)  \n",
    "    signal = diff  \n",
    "    compare_to = lag(signal, buy_lag + hold_time)  \n",
    "    signal_to_result_correlation, pval = investment.correlation(compare_to)\n",
    "    print(\"Correlation between dgs10-dgs3mo and gold returns (\" + str(buy_lag) +\n",
    "          \" days wait, \" + str(hold_time) + \" day hold): {:.2%}\".format(\n",
    "        signal_to_result_correlation))  "
   ]
  },
  {
   "cell_type": "code",
   "execution_count": 52,
   "id": "b9d113ce-6b8e-46f8-921f-44b3db24a862",
   "metadata": {
    "tags": []
   },
   "outputs": [],
   "source": [
    "def recession_visual():\n",
    "    \"\"\"Plot a graphic visual showing the inverted yield curve for the treasurey assets and the\n",
    "    compared gold price curve\"\"\"\n",
    "    short = dgs3mo()\n",
    "    long = dgs10()\n",
    "    gold = gold_spot()\n",
    "    dates = short.get_dates()\n",
    "    dates = long.get_dates(dates)  \n",
    "    gold_date = gold.get_dates(dates)\n",
    "    gold_val = gold.get_values(dates)\n",
    "    diff = long - short\n",
    "    y_diff = diff.get_values(dates)\n",
    "    x_dates = diff.get_dates(candidates=dates)\n",
    "\n",
    "    fig = plt.figure(1)\n",
    "    ax = fig.add_subplot(111)  \n",
    "    left = ax.plot(gold_date, gold_val, color='orange')\n",
    "    ax.set_ylabel('USD per ounce')\n",
    "    ax.set_xlabel('date')\n",
    "    axr = ax.twinx()  \n",
    "    right = axr.plot(x_dates, y_diff)\n",
    "    axr.set_ylabel('percent per anum')  \n",
    "    axr.axhline(y=0, color='r')\n",
    "    fig.autofmt_xdate()  \n",
    "    ax.legend(left + right, ['gold_spot', 'dgs10-dgs3mo'],\n",
    "              loc='upper center')\n",
    "    ax.set_title('Gold vs. Yield Curve Inversion')\n",
    "    plt.show()"
   ]
  },
  {
   "cell_type": "code",
   "execution_count": 62,
   "id": "9aac7a60-d2f0-4876-8434-d16bf45dbee2",
   "metadata": {
    "tags": []
   },
   "outputs": [
    {
     "name": "stdout",
     "output_type": "stream",
     "text": [
      "Correlation between dgs10-dgs3mo and gold_spot: -11.87%\n",
      "Correlation between dgs10-dgs3mo and gold returns (3 days wait, 20 day hold): 0.08%\n"
     ]
    },
    {
     "data": {
      "image/png": "[encoded data removed]",
      "text/plain": [
       "<Figure size 640x480 with 2 Axes>"
      ]
     },
     "metadata": {},
     "output_type": "display_data"
    }
   ],
   "source": [
    "if __name__ == '__main__':\n",
    "    print_correlations()\n",
    "    recession_visual()"
   ]
  }
 ],
 "metadata": {
  "kernelspec": {
   "display_name": "Python 3 (ipykernel)",
   "language": "python",
   "name": "python3"
  },
  "language_info": {
   "codemirror_mode": {
    "name": "ipython",
    "version": 3
   },
   "file_extension": ".py",
   "mimetype": "text/x-python",
   "name": "python",
   "nbconvert_exporter": "python",
   "pygments_lexer": "ipython3",
   "version": "3.10.9"
  }
 },
 "nbformat": 4,
 "nbformat_minor": 5
}
